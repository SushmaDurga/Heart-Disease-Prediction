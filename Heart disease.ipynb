{
 "cells": [
  {
   "cell_type": "code",
   "execution_count": 4,
   "id": "6ab32982",
   "metadata": {},
   "outputs": [
    {
     "name": "stdout",
     "output_type": "stream",
     "text": [
      "['.conda', '.condarc', '.continuum', '.ipynb_checkpoints', '.ipython', '.jupyter', '.keras', '.matplotlib', '.vscode', 'anaconda3', 'AppData', 'Application Data', 'bus_booking.db', 'Contacts', 'Cookies', 'day2.ipynb', 'day3.ipynb', 'day4.ipynb', 'day5.ipynb', 'Documents', 'Downloads', 'Favorites', 'House price prediction.ipynb', 'Image classification.ipynb', 'image-classification-cnn.h5', 'kidnappings-monthly-csv-1.csv', 'Links', 'Local Settings', 'ml mobile prices predict .ipynb', 'Music', 'My Documents', 'myenv', 'NetHood', 'NTUSER.DAT', 'ntuser.dat.LOG1', 'ntuser.dat.LOG2', 'NTUSER.DAT{d24c703a-7c58-11ed-a925-3c219c1fee6e}.TM.blf', 'NTUSER.DAT{d24c703a-7c58-11ed-a925-3c219c1fee6e}.TMContainer00000000000000000001.regtrans-ms', 'NTUSER.DAT{d24c703a-7c58-11ed-a925-3c219c1fee6e}.TMContainer00000000000000000002.regtrans-ms', 'ntuser.ini', 'OneDrive', 'PrintHood', 'python basics.ipynb', 'Recent', 'Saved Games', 'Searches', 'SendTo', 'sql.ipynb', 'Start Menu', 'Templates', 'tensorflow.ipynb', 'test.db', 'topics.ipynb', 'Untitled.ipynb', 'Untitled1.ipynb', 'Untitled2.ipynb', 'Untitled3.ipynb', 'Untitled4.ipynb', 'using sql.ipynb', 'Videos', 'workshop day1.ipynb']\n"
     ]
    }
   ],
   "source": [
    "import numpy as np\n",
    "import pandas as pd\n",
    "import matplotlib.pyplot as plt\n",
    "import seaborn as sns\n",
    "\n",
    "%matplotlib inline\n",
    "\n",
    "import os\n",
    "print(os.listdir())\n",
    "\n",
    "import warnings\n",
    "warnings.filterwarnings('ignore')"
   ]
  },
  {
   "cell_type": "code",
   "execution_count": null,
   "id": "4003f34c",
   "metadata": {},
   "outputs": [],
   "source": [
    "# Importing and understanding our dataset"
   ]
  },
  {
   "cell_type": "code",
   "execution_count": 5,
   "id": "371e3008",
   "metadata": {},
   "outputs": [],
   "source": [
    "os.getcwd()\n",
    "os.chdir(\"C:\\\\Users\\\\sushm\\\\Downloads\")\n",
    "dataset = pd.read_csv(\"heart.csv\")"
   ]
  },
  {
   "cell_type": "code",
   "execution_count": 6,
   "id": "6bd1e7ac",
   "metadata": {},
   "outputs": [
    {
     "data": {
      "text/plain": [
       "pandas.core.frame.DataFrame"
      ]
     },
     "execution_count": 6,
     "metadata": {},
     "output_type": "execute_result"
    }
   ],
   "source": [
    "type(dataset)"
   ]
  },
  {
   "cell_type": "code",
   "execution_count": 7,
   "id": "a52454e7",
   "metadata": {},
   "outputs": [
    {
     "data": {
      "text/plain": [
       "(303, 14)"
      ]
     },
     "execution_count": 7,
     "metadata": {},
     "output_type": "execute_result"
    }
   ],
   "source": [
    "dataset.shape"
   ]
  },
  {
   "cell_type": "code",
   "execution_count": 8,
   "id": "4c7b201c",
   "metadata": {},
   "outputs": [
    {
     "data": {
      "text/html": [
       "<div>\n",
       "<style scoped>\n",
       "    .dataframe tbody tr th:only-of-type {\n",
       "        vertical-align: middle;\n",
       "    }\n",
       "\n",
       "    .dataframe tbody tr th {\n",
       "        vertical-align: top;\n",
       "    }\n",
       "\n",
       "    .dataframe thead th {\n",
       "        text-align: right;\n",
       "    }\n",
       "</style>\n",
       "<table border=\"1\" class=\"dataframe\">\n",
       "  <thead>\n",
       "    <tr style=\"text-align: right;\">\n",
       "      <th></th>\n",
       "      <th>age</th>\n",
       "      <th>sex</th>\n",
       "      <th>cp</th>\n",
       "      <th>trestbps</th>\n",
       "      <th>chol</th>\n",
       "      <th>fbs</th>\n",
       "      <th>restecg</th>\n",
       "      <th>thalach</th>\n",
       "      <th>exang</th>\n",
       "      <th>oldpeak</th>\n",
       "      <th>slope</th>\n",
       "      <th>ca</th>\n",
       "      <th>thal</th>\n",
       "      <th>target</th>\n",
       "    </tr>\n",
       "  </thead>\n",
       "  <tbody>\n",
       "    <tr>\n",
       "      <th>0</th>\n",
       "      <td>63</td>\n",
       "      <td>1</td>\n",
       "      <td>3</td>\n",
       "      <td>145</td>\n",
       "      <td>233</td>\n",
       "      <td>1</td>\n",
       "      <td>0</td>\n",
       "      <td>150</td>\n",
       "      <td>0</td>\n",
       "      <td>2.3</td>\n",
       "      <td>0</td>\n",
       "      <td>0</td>\n",
       "      <td>1</td>\n",
       "      <td>1</td>\n",
       "    </tr>\n",
       "    <tr>\n",
       "      <th>1</th>\n",
       "      <td>37</td>\n",
       "      <td>1</td>\n",
       "      <td>2</td>\n",
       "      <td>130</td>\n",
       "      <td>250</td>\n",
       "      <td>0</td>\n",
       "      <td>1</td>\n",
       "      <td>187</td>\n",
       "      <td>0</td>\n",
       "      <td>3.5</td>\n",
       "      <td>0</td>\n",
       "      <td>0</td>\n",
       "      <td>2</td>\n",
       "      <td>1</td>\n",
       "    </tr>\n",
       "    <tr>\n",
       "      <th>2</th>\n",
       "      <td>41</td>\n",
       "      <td>0</td>\n",
       "      <td>1</td>\n",
       "      <td>130</td>\n",
       "      <td>204</td>\n",
       "      <td>0</td>\n",
       "      <td>0</td>\n",
       "      <td>172</td>\n",
       "      <td>0</td>\n",
       "      <td>1.4</td>\n",
       "      <td>2</td>\n",
       "      <td>0</td>\n",
       "      <td>2</td>\n",
       "      <td>1</td>\n",
       "    </tr>\n",
       "    <tr>\n",
       "      <th>3</th>\n",
       "      <td>56</td>\n",
       "      <td>1</td>\n",
       "      <td>1</td>\n",
       "      <td>120</td>\n",
       "      <td>236</td>\n",
       "      <td>0</td>\n",
       "      <td>1</td>\n",
       "      <td>178</td>\n",
       "      <td>0</td>\n",
       "      <td>0.8</td>\n",
       "      <td>2</td>\n",
       "      <td>0</td>\n",
       "      <td>2</td>\n",
       "      <td>1</td>\n",
       "    </tr>\n",
       "    <tr>\n",
       "      <th>4</th>\n",
       "      <td>57</td>\n",
       "      <td>0</td>\n",
       "      <td>0</td>\n",
       "      <td>120</td>\n",
       "      <td>354</td>\n",
       "      <td>0</td>\n",
       "      <td>1</td>\n",
       "      <td>163</td>\n",
       "      <td>1</td>\n",
       "      <td>0.6</td>\n",
       "      <td>2</td>\n",
       "      <td>0</td>\n",
       "      <td>2</td>\n",
       "      <td>1</td>\n",
       "    </tr>\n",
       "  </tbody>\n",
       "</table>\n",
       "</div>"
      ],
      "text/plain": [
       "   age  sex  cp  trestbps  chol  fbs  restecg  thalach  exang  oldpeak  slope  \\\n",
       "0   63    1   3       145   233    1        0      150      0      2.3      0   \n",
       "1   37    1   2       130   250    0        1      187      0      3.5      0   \n",
       "2   41    0   1       130   204    0        0      172      0      1.4      2   \n",
       "3   56    1   1       120   236    0        1      178      0      0.8      2   \n",
       "4   57    0   0       120   354    0        1      163      1      0.6      2   \n",
       "\n",
       "   ca  thal  target  \n",
       "0   0     1       1  \n",
       "1   0     2       1  \n",
       "2   0     2       1  \n",
       "3   0     2       1  \n",
       "4   0     2       1  "
      ]
     },
     "execution_count": 8,
     "metadata": {},
     "output_type": "execute_result"
    }
   ],
   "source": [
    "dataset.head(5)"
   ]
  },
  {
   "cell_type": "code",
   "execution_count": 9,
   "id": "d74e5c1c",
   "metadata": {},
   "outputs": [
    {
     "data": {
      "text/html": [
       "<div>\n",
       "<style scoped>\n",
       "    .dataframe tbody tr th:only-of-type {\n",
       "        vertical-align: middle;\n",
       "    }\n",
       "\n",
       "    .dataframe tbody tr th {\n",
       "        vertical-align: top;\n",
       "    }\n",
       "\n",
       "    .dataframe thead th {\n",
       "        text-align: right;\n",
       "    }\n",
       "</style>\n",
       "<table border=\"1\" class=\"dataframe\">\n",
       "  <thead>\n",
       "    <tr style=\"text-align: right;\">\n",
       "      <th></th>\n",
       "      <th>age</th>\n",
       "      <th>sex</th>\n",
       "      <th>cp</th>\n",
       "      <th>trestbps</th>\n",
       "      <th>chol</th>\n",
       "      <th>fbs</th>\n",
       "      <th>restecg</th>\n",
       "      <th>thalach</th>\n",
       "      <th>exang</th>\n",
       "      <th>oldpeak</th>\n",
       "      <th>slope</th>\n",
       "      <th>ca</th>\n",
       "      <th>thal</th>\n",
       "      <th>target</th>\n",
       "    </tr>\n",
       "  </thead>\n",
       "  <tbody>\n",
       "    <tr>\n",
       "      <th>111</th>\n",
       "      <td>57</td>\n",
       "      <td>1</td>\n",
       "      <td>2</td>\n",
       "      <td>150</td>\n",
       "      <td>126</td>\n",
       "      <td>1</td>\n",
       "      <td>1</td>\n",
       "      <td>173</td>\n",
       "      <td>0</td>\n",
       "      <td>0.2</td>\n",
       "      <td>2</td>\n",
       "      <td>1</td>\n",
       "      <td>3</td>\n",
       "      <td>1</td>\n",
       "    </tr>\n",
       "    <tr>\n",
       "      <th>163</th>\n",
       "      <td>38</td>\n",
       "      <td>1</td>\n",
       "      <td>2</td>\n",
       "      <td>138</td>\n",
       "      <td>175</td>\n",
       "      <td>0</td>\n",
       "      <td>1</td>\n",
       "      <td>173</td>\n",
       "      <td>0</td>\n",
       "      <td>0.0</td>\n",
       "      <td>2</td>\n",
       "      <td>4</td>\n",
       "      <td>2</td>\n",
       "      <td>1</td>\n",
       "    </tr>\n",
       "    <tr>\n",
       "      <th>126</th>\n",
       "      <td>47</td>\n",
       "      <td>1</td>\n",
       "      <td>0</td>\n",
       "      <td>112</td>\n",
       "      <td>204</td>\n",
       "      <td>0</td>\n",
       "      <td>1</td>\n",
       "      <td>143</td>\n",
       "      <td>0</td>\n",
       "      <td>0.1</td>\n",
       "      <td>2</td>\n",
       "      <td>0</td>\n",
       "      <td>2</td>\n",
       "      <td>1</td>\n",
       "    </tr>\n",
       "    <tr>\n",
       "      <th>277</th>\n",
       "      <td>57</td>\n",
       "      <td>1</td>\n",
       "      <td>1</td>\n",
       "      <td>124</td>\n",
       "      <td>261</td>\n",
       "      <td>0</td>\n",
       "      <td>1</td>\n",
       "      <td>141</td>\n",
       "      <td>0</td>\n",
       "      <td>0.3</td>\n",
       "      <td>2</td>\n",
       "      <td>0</td>\n",
       "      <td>3</td>\n",
       "      <td>0</td>\n",
       "    </tr>\n",
       "    <tr>\n",
       "      <th>189</th>\n",
       "      <td>41</td>\n",
       "      <td>1</td>\n",
       "      <td>0</td>\n",
       "      <td>110</td>\n",
       "      <td>172</td>\n",
       "      <td>0</td>\n",
       "      <td>0</td>\n",
       "      <td>158</td>\n",
       "      <td>0</td>\n",
       "      <td>0.0</td>\n",
       "      <td>2</td>\n",
       "      <td>0</td>\n",
       "      <td>3</td>\n",
       "      <td>0</td>\n",
       "    </tr>\n",
       "  </tbody>\n",
       "</table>\n",
       "</div>"
      ],
      "text/plain": [
       "     age  sex  cp  trestbps  chol  fbs  restecg  thalach  exang  oldpeak  \\\n",
       "111   57    1   2       150   126    1        1      173      0      0.2   \n",
       "163   38    1   2       138   175    0        1      173      0      0.0   \n",
       "126   47    1   0       112   204    0        1      143      0      0.1   \n",
       "277   57    1   1       124   261    0        1      141      0      0.3   \n",
       "189   41    1   0       110   172    0        0      158      0      0.0   \n",
       "\n",
       "     slope  ca  thal  target  \n",
       "111      2   1     3       1  \n",
       "163      2   4     2       1  \n",
       "126      2   0     2       1  \n",
       "277      2   0     3       0  \n",
       "189      2   0     3       0  "
      ]
     },
     "execution_count": 9,
     "metadata": {},
     "output_type": "execute_result"
    }
   ],
   "source": [
    "dataset.sample(5)"
   ]
  },
  {
   "cell_type": "code",
   "execution_count": 10,
   "id": "9d9e410c",
   "metadata": {},
   "outputs": [
    {
     "data": {
      "text/html": [
       "<div>\n",
       "<style scoped>\n",
       "    .dataframe tbody tr th:only-of-type {\n",
       "        vertical-align: middle;\n",
       "    }\n",
       "\n",
       "    .dataframe tbody tr th {\n",
       "        vertical-align: top;\n",
       "    }\n",
       "\n",
       "    .dataframe thead th {\n",
       "        text-align: right;\n",
       "    }\n",
       "</style>\n",
       "<table border=\"1\" class=\"dataframe\">\n",
       "  <thead>\n",
       "    <tr style=\"text-align: right;\">\n",
       "      <th></th>\n",
       "      <th>age</th>\n",
       "      <th>sex</th>\n",
       "      <th>cp</th>\n",
       "      <th>trestbps</th>\n",
       "      <th>chol</th>\n",
       "      <th>fbs</th>\n",
       "      <th>restecg</th>\n",
       "      <th>thalach</th>\n",
       "      <th>exang</th>\n",
       "      <th>oldpeak</th>\n",
       "      <th>slope</th>\n",
       "      <th>ca</th>\n",
       "      <th>thal</th>\n",
       "      <th>target</th>\n",
       "    </tr>\n",
       "  </thead>\n",
       "  <tbody>\n",
       "    <tr>\n",
       "      <th>count</th>\n",
       "      <td>303.000000</td>\n",
       "      <td>303.000000</td>\n",
       "      <td>303.000000</td>\n",
       "      <td>303.000000</td>\n",
       "      <td>303.000000</td>\n",
       "      <td>303.000000</td>\n",
       "      <td>303.000000</td>\n",
       "      <td>303.000000</td>\n",
       "      <td>303.000000</td>\n",
       "      <td>303.000000</td>\n",
       "      <td>303.000000</td>\n",
       "      <td>303.000000</td>\n",
       "      <td>303.000000</td>\n",
       "      <td>303.000000</td>\n",
       "    </tr>\n",
       "    <tr>\n",
       "      <th>mean</th>\n",
       "      <td>54.366337</td>\n",
       "      <td>0.683168</td>\n",
       "      <td>0.966997</td>\n",
       "      <td>131.623762</td>\n",
       "      <td>246.264026</td>\n",
       "      <td>0.148515</td>\n",
       "      <td>0.528053</td>\n",
       "      <td>149.646865</td>\n",
       "      <td>0.326733</td>\n",
       "      <td>1.039604</td>\n",
       "      <td>1.399340</td>\n",
       "      <td>0.729373</td>\n",
       "      <td>2.313531</td>\n",
       "      <td>0.544554</td>\n",
       "    </tr>\n",
       "    <tr>\n",
       "      <th>std</th>\n",
       "      <td>9.082101</td>\n",
       "      <td>0.466011</td>\n",
       "      <td>1.032052</td>\n",
       "      <td>17.538143</td>\n",
       "      <td>51.830751</td>\n",
       "      <td>0.356198</td>\n",
       "      <td>0.525860</td>\n",
       "      <td>22.905161</td>\n",
       "      <td>0.469794</td>\n",
       "      <td>1.161075</td>\n",
       "      <td>0.616226</td>\n",
       "      <td>1.022606</td>\n",
       "      <td>0.612277</td>\n",
       "      <td>0.498835</td>\n",
       "    </tr>\n",
       "    <tr>\n",
       "      <th>min</th>\n",
       "      <td>29.000000</td>\n",
       "      <td>0.000000</td>\n",
       "      <td>0.000000</td>\n",
       "      <td>94.000000</td>\n",
       "      <td>126.000000</td>\n",
       "      <td>0.000000</td>\n",
       "      <td>0.000000</td>\n",
       "      <td>71.000000</td>\n",
       "      <td>0.000000</td>\n",
       "      <td>0.000000</td>\n",
       "      <td>0.000000</td>\n",
       "      <td>0.000000</td>\n",
       "      <td>0.000000</td>\n",
       "      <td>0.000000</td>\n",
       "    </tr>\n",
       "    <tr>\n",
       "      <th>25%</th>\n",
       "      <td>47.500000</td>\n",
       "      <td>0.000000</td>\n",
       "      <td>0.000000</td>\n",
       "      <td>120.000000</td>\n",
       "      <td>211.000000</td>\n",
       "      <td>0.000000</td>\n",
       "      <td>0.000000</td>\n",
       "      <td>133.500000</td>\n",
       "      <td>0.000000</td>\n",
       "      <td>0.000000</td>\n",
       "      <td>1.000000</td>\n",
       "      <td>0.000000</td>\n",
       "      <td>2.000000</td>\n",
       "      <td>0.000000</td>\n",
       "    </tr>\n",
       "    <tr>\n",
       "      <th>50%</th>\n",
       "      <td>55.000000</td>\n",
       "      <td>1.000000</td>\n",
       "      <td>1.000000</td>\n",
       "      <td>130.000000</td>\n",
       "      <td>240.000000</td>\n",
       "      <td>0.000000</td>\n",
       "      <td>1.000000</td>\n",
       "      <td>153.000000</td>\n",
       "      <td>0.000000</td>\n",
       "      <td>0.800000</td>\n",
       "      <td>1.000000</td>\n",
       "      <td>0.000000</td>\n",
       "      <td>2.000000</td>\n",
       "      <td>1.000000</td>\n",
       "    </tr>\n",
       "    <tr>\n",
       "      <th>75%</th>\n",
       "      <td>61.000000</td>\n",
       "      <td>1.000000</td>\n",
       "      <td>2.000000</td>\n",
       "      <td>140.000000</td>\n",
       "      <td>274.500000</td>\n",
       "      <td>0.000000</td>\n",
       "      <td>1.000000</td>\n",
       "      <td>166.000000</td>\n",
       "      <td>1.000000</td>\n",
       "      <td>1.600000</td>\n",
       "      <td>2.000000</td>\n",
       "      <td>1.000000</td>\n",
       "      <td>3.000000</td>\n",
       "      <td>1.000000</td>\n",
       "    </tr>\n",
       "    <tr>\n",
       "      <th>max</th>\n",
       "      <td>77.000000</td>\n",
       "      <td>1.000000</td>\n",
       "      <td>3.000000</td>\n",
       "      <td>200.000000</td>\n",
       "      <td>564.000000</td>\n",
       "      <td>1.000000</td>\n",
       "      <td>2.000000</td>\n",
       "      <td>202.000000</td>\n",
       "      <td>1.000000</td>\n",
       "      <td>6.200000</td>\n",
       "      <td>2.000000</td>\n",
       "      <td>4.000000</td>\n",
       "      <td>3.000000</td>\n",
       "      <td>1.000000</td>\n",
       "    </tr>\n",
       "  </tbody>\n",
       "</table>\n",
       "</div>"
      ],
      "text/plain": [
       "              age         sex          cp    trestbps        chol         fbs  \\\n",
       "count  303.000000  303.000000  303.000000  303.000000  303.000000  303.000000   \n",
       "mean    54.366337    0.683168    0.966997  131.623762  246.264026    0.148515   \n",
       "std      9.082101    0.466011    1.032052   17.538143   51.830751    0.356198   \n",
       "min     29.000000    0.000000    0.000000   94.000000  126.000000    0.000000   \n",
       "25%     47.500000    0.000000    0.000000  120.000000  211.000000    0.000000   \n",
       "50%     55.000000    1.000000    1.000000  130.000000  240.000000    0.000000   \n",
       "75%     61.000000    1.000000    2.000000  140.000000  274.500000    0.000000   \n",
       "max     77.000000    1.000000    3.000000  200.000000  564.000000    1.000000   \n",
       "\n",
       "          restecg     thalach       exang     oldpeak       slope          ca  \\\n",
       "count  303.000000  303.000000  303.000000  303.000000  303.000000  303.000000   \n",
       "mean     0.528053  149.646865    0.326733    1.039604    1.399340    0.729373   \n",
       "std      0.525860   22.905161    0.469794    1.161075    0.616226    1.022606   \n",
       "min      0.000000   71.000000    0.000000    0.000000    0.000000    0.000000   \n",
       "25%      0.000000  133.500000    0.000000    0.000000    1.000000    0.000000   \n",
       "50%      1.000000  153.000000    0.000000    0.800000    1.000000    0.000000   \n",
       "75%      1.000000  166.000000    1.000000    1.600000    2.000000    1.000000   \n",
       "max      2.000000  202.000000    1.000000    6.200000    2.000000    4.000000   \n",
       "\n",
       "             thal      target  \n",
       "count  303.000000  303.000000  \n",
       "mean     2.313531    0.544554  \n",
       "std      0.612277    0.498835  \n",
       "min      0.000000    0.000000  \n",
       "25%      2.000000    0.000000  \n",
       "50%      2.000000    1.000000  \n",
       "75%      3.000000    1.000000  \n",
       "max      3.000000    1.000000  "
      ]
     },
     "execution_count": 10,
     "metadata": {},
     "output_type": "execute_result"
    }
   ],
   "source": [
    "dataset.describe()"
   ]
  },
  {
   "cell_type": "code",
   "execution_count": 11,
   "id": "192825cd",
   "metadata": {},
   "outputs": [
    {
     "name": "stdout",
     "output_type": "stream",
     "text": [
      "<class 'pandas.core.frame.DataFrame'>\n",
      "RangeIndex: 303 entries, 0 to 302\n",
      "Data columns (total 14 columns):\n",
      " #   Column    Non-Null Count  Dtype  \n",
      "---  ------    --------------  -----  \n",
      " 0   age       303 non-null    int64  \n",
      " 1   sex       303 non-null    int64  \n",
      " 2   cp        303 non-null    int64  \n",
      " 3   trestbps  303 non-null    int64  \n",
      " 4   chol      303 non-null    int64  \n",
      " 5   fbs       303 non-null    int64  \n",
      " 6   restecg   303 non-null    int64  \n",
      " 7   thalach   303 non-null    int64  \n",
      " 8   exang     303 non-null    int64  \n",
      " 9   oldpeak   303 non-null    float64\n",
      " 10  slope     303 non-null    int64  \n",
      " 11  ca        303 non-null    int64  \n",
      " 12  thal      303 non-null    int64  \n",
      " 13  target    303 non-null    int64  \n",
      "dtypes: float64(1), int64(13)\n",
      "memory usage: 33.3 KB\n"
     ]
    }
   ],
   "source": [
    "dataset.info()"
   ]
  },
  {
   "cell_type": "code",
   "execution_count": 12,
   "id": "13343c54",
   "metadata": {},
   "outputs": [
    {
     "name": "stdout",
     "output_type": "stream",
     "text": [
      "age:\t\t\tage\n",
      "sex:\t\t\t1: male, 0: female\n",
      "cp:\t\t\tchest pain type, 1: typical angina, 2: atypical angina, 3: non-anginal pain, 4: asymptomatic\n",
      "trestbps:\t\t\tresting blood pressure\n",
      "chol:\t\t\t serum cholestoral in mg/dl\n",
      "fbs:\t\t\tfasting blood sugar > 120 mg/dl\n",
      "restecg:\t\t\tresting electrocardiographic results (values 0,1,2)\n",
      "thalach:\t\t\t maximum heart rate achieved\n",
      "exang:\t\t\texercise induced angina\n",
      "oldpeak:\t\t\toldpeak = ST depression induced by exercise relative to rest\n",
      "slope:\t\t\tthe slope of the peak exercise ST segment\n",
      "ca:\t\t\tnumber of major vessels (0-3) colored by flourosopy\n",
      "thal:\t\t\tthal: 3 = normal; 6 = fixed defect; 7 = reversable defect\n"
     ]
    }
   ],
   "source": [
    "info = [\"age\",\"1: male, 0: female\",\"chest pain type, 1: typical angina, 2: atypical angina, 3: non-anginal pain, 4: asymptomatic\",\"resting blood pressure\",\" serum cholestoral in mg/dl\",\"fasting blood sugar > 120 mg/dl\",\"resting electrocardiographic results (values 0,1,2)\",\" maximum heart rate achieved\",\"exercise induced angina\",\"oldpeak = ST depression induced by exercise relative to rest\",\"the slope of the peak exercise ST segment\",\"number of major vessels (0-3) colored by flourosopy\",\"thal: 3 = normal; 6 = fixed defect; 7 = reversable defect\"]\n",
    "\n",
    "\n",
    "\n",
    "for i in range(len(info)):\n",
    "    print(dataset.columns[i]+\":\\t\\t\\t\"+info[i])"
   ]
  },
  {
   "cell_type": "code",
   "execution_count": 13,
   "id": "33102474",
   "metadata": {},
   "outputs": [
    {
     "data": {
      "text/plain": [
       "count    303.000000\n",
       "mean       0.544554\n",
       "std        0.498835\n",
       "min        0.000000\n",
       "25%        0.000000\n",
       "50%        1.000000\n",
       "75%        1.000000\n",
       "max        1.000000\n",
       "Name: target, dtype: float64"
      ]
     },
     "execution_count": 13,
     "metadata": {},
     "output_type": "execute_result"
    }
   ],
   "source": [
    "dataset[\"target\"].describe()"
   ]
  },
  {
   "cell_type": "code",
   "execution_count": 14,
   "id": "5298304f",
   "metadata": {},
   "outputs": [
    {
     "data": {
      "text/plain": [
       "array([1, 0], dtype=int64)"
      ]
     },
     "execution_count": 14,
     "metadata": {},
     "output_type": "execute_result"
    }
   ],
   "source": [
    "dataset[\"target\"].unique()"
   ]
  },
  {
   "cell_type": "code",
   "execution_count": 15,
   "id": "93c2a56a",
   "metadata": {},
   "outputs": [
    {
     "name": "stdout",
     "output_type": "stream",
     "text": [
      "target      1.000000\n",
      "exang       0.436757\n",
      "cp          0.433798\n",
      "oldpeak     0.430696\n",
      "thalach     0.421741\n",
      "ca          0.391724\n",
      "slope       0.345877\n",
      "thal        0.344029\n",
      "sex         0.280937\n",
      "age         0.225439\n",
      "trestbps    0.144931\n",
      "restecg     0.137230\n",
      "chol        0.085239\n",
      "fbs         0.028046\n",
      "Name: target, dtype: float64\n"
     ]
    }
   ],
   "source": [
    "print(dataset.corr()[\"target\"].abs().sort_values(ascending=False))"
   ]
  },
  {
   "cell_type": "code",
   "execution_count": 16,
   "id": "e630aaba",
   "metadata": {},
   "outputs": [
    {
     "name": "stdout",
     "output_type": "stream",
     "text": [
      "target\n",
      "1    165\n",
      "0    138\n",
      "Name: count, dtype: int64\n"
     ]
    },
    {
     "data": {
      "image/png": "[encoded data removed]",
      "text/plain": [
       "<Figure size 640x480 with 1 Axes>"
      ]
     },
     "metadata": {},
     "output_type": "display_data"
    }
   ],
   "source": [
    "y = dataset[\"target\"]\n",
    "\n",
    "sns.countplot(y)\n",
    "\n",
    "\n",
    "target_temp = dataset.target.value_counts()\n",
    "\n",
    "print(target_temp)"
   ]
  },
  {
   "cell_type": "code",
   "execution_count": 17,
   "id": "48de13c6",
   "metadata": {},
   "outputs": [
    {
     "name": "stdout",
     "output_type": "stream",
     "text": [
      "Percentage of patience without heart problems: 45.54\n",
      "Percentage of patience with heart problems: 54.46\n"
     ]
    }
   ],
   "source": [
    "print(\"Percentage of patience without heart problems: \"+str(round(target_temp[0]*100/303,2)))\n",
    "print(\"Percentage of patience with heart problems: \"+str(round(target_temp[1]*100/303,2)))"
   ]
  },
  {
   "cell_type": "code",
   "execution_count": 18,
   "id": "7f0b47ed",
   "metadata": {},
   "outputs": [
    {
     "data": {
      "text/plain": [
       "array([1, 0], dtype=int64)"
      ]
     },
     "execution_count": 18,
     "metadata": {},
     "output_type": "execute_result"
    }
   ],
   "source": [
    "dataset[\"sex\"].unique()"
   ]
  },
  {
   "cell_type": "code",
   "execution_count": 19,
   "id": "7a52586a",
   "metadata": {},
   "outputs": [
    {
     "data": {
      "text/plain": [
       "<Axes: xlabel='sex', ylabel='target'>"
      ]
     },
     "execution_count": 19,
     "metadata": {},
     "output_type": "execute_result"
    },
    {
     "data": {
      "image/png": "[encoded data removed]",
      "text/plain": [
       "<Figure size 640x480 with 1 Axes>"
      ]
     },
     "metadata": {},
     "output_type": "display_data"
    }
   ],
   "source": [
    "sns.barplot(x='sex', y='target', data=dataset)"
   ]
  },
  {
   "cell_type": "code",
   "execution_count": 20,
   "id": "5f07f0b1",
   "metadata": {},
   "outputs": [
    {
     "data": {
      "text/plain": [
       "array([3, 2, 1, 0], dtype=int64)"
      ]
     },
     "execution_count": 20,
     "metadata": {},
     "output_type": "execute_result"
    }
   ],
   "source": [
    "dataset[\"cp\"].unique()"
   ]
  },
  {
   "cell_type": "code",
   "execution_count": 21,
   "id": "2a203532",
   "metadata": {},
   "outputs": [
    {
     "data": {
      "text/plain": [
       "<Axes: xlabel='cp', ylabel='target'>"
      ]
     },
     "execution_count": 21,
     "metadata": {},
     "output_type": "execute_result"
    },
    {
     "data": {
      "image/png": "[encoded data removed]",
      "text/plain": [
       "<Figure size 640x480 with 1 Axes>"
      ]
     },
     "metadata": {},
     "output_type": "display_data"
    }
   ],
   "source": [
    "sns.barplot(x='cp', y='target', data=dataset)"
   ]
  },
  {
   "cell_type": "code",
   "execution_count": 22,
   "id": "313f4ef7",
   "metadata": {},
   "outputs": [
    {
     "data": {
      "text/plain": [
       "count    303.000000\n",
       "mean       0.148515\n",
       "std        0.356198\n",
       "min        0.000000\n",
       "25%        0.000000\n",
       "50%        0.000000\n",
       "75%        0.000000\n",
       "max        1.000000\n",
       "Name: fbs, dtype: float64"
      ]
     },
     "execution_count": 22,
     "metadata": {},
     "output_type": "execute_result"
    }
   ],
   "source": [
    "dataset[\"fbs\"].describe()"
   ]
  },
  {
   "cell_type": "code",
   "execution_count": 23,
   "id": "edf66047",
   "metadata": {},
   "outputs": [
    {
     "data": {
      "text/plain": [
       "array([1, 0], dtype=int64)"
      ]
     },
     "execution_count": 23,
     "metadata": {},
     "output_type": "execute_result"
    }
   ],
   "source": [
    "dataset[\"fbs\"].unique()"
   ]
  },
  {
   "cell_type": "code",
   "execution_count": 24,
   "id": "ba9fcf02",
   "metadata": {},
   "outputs": [
    {
     "data": {
      "text/plain": [
       "<Axes: xlabel='fbs', ylabel='target'>"
      ]
     },
     "execution_count": 24,
     "metadata": {},
     "output_type": "execute_result"
    },
    {
     "data": {
      "image/png": "[encoded data removed]",
      "text/plain": [
       "<Figure size 640x480 with 1 Axes>"
      ]
     },
     "metadata": {},
     "output_type": "display_data"
    }
   ],
   "source": [
    "sns.barplot(x='fbs', y='target', data=dataset)"
   ]
  },
  {
   "cell_type": "code",
   "execution_count": 25,
   "id": "f8f6891a",
   "metadata": {},
   "outputs": [
    {
     "data": {
      "text/plain": [
       "array([0, 1, 2], dtype=int64)"
      ]
     },
     "execution_count": 25,
     "metadata": {},
     "output_type": "execute_result"
    }
   ],
   "source": [
    "dataset[\"restecg\"].unique()"
   ]
  },
  {
   "cell_type": "code",
   "execution_count": 26,
   "id": "b8a152f6",
   "metadata": {},
   "outputs": [
    {
     "data": {
      "text/plain": [
       "<Axes: xlabel='restecg', ylabel='target'>"
      ]
     },
     "execution_count": 26,
     "metadata": {},
     "output_type": "execute_result"
    },
    {
     "data": {
      "image/png": "[encoded data removed]",
      "text/plain": [
       "<Figure size 640x480 with 1 Axes>"
      ]
     },
     "metadata": {},
     "output_type": "display_data"
    }
   ],
   "source": [
    "sns.barplot(x='restecg', y='target', data=dataset)"
   ]
  },
  {
   "cell_type": "code",
   "execution_count": 27,
   "id": "a1e19106",
   "metadata": {},
   "outputs": [
    {
     "data": {
      "text/plain": [
       "array([0, 1], dtype=int64)"
      ]
     },
     "execution_count": 27,
     "metadata": {},
     "output_type": "execute_result"
    }
   ],
   "source": [
    "dataset[\"exang\"].unique()"
   ]
  },
  {
   "cell_type": "code",
   "execution_count": 28,
   "id": "bb25c23e",
   "metadata": {},
   "outputs": [
    {
     "data": {
      "text/plain": [
       "<Axes: xlabel='exang', ylabel='target'>"
      ]
     },
     "execution_count": 28,
     "metadata": {},
     "output_type": "execute_result"
    },
    {
     "data": {
      "image/png": "[encoded data removed]",
      "text/plain": [
       "<Figure size 640x480 with 1 Axes>"
      ]
     },
     "metadata": {},
     "output_type": "display_data"
    }
   ],
   "source": [
    "sns.barplot(x='exang', y='target', data=dataset)"
   ]
  },
  {
   "cell_type": "code",
   "execution_count": 29,
   "id": "66476491",
   "metadata": {},
   "outputs": [
    {
     "data": {
      "text/plain": [
       "array([0, 2, 1], dtype=int64)"
      ]
     },
     "execution_count": 29,
     "metadata": {},
     "output_type": "execute_result"
    }
   ],
   "source": [
    "dataset[\"slope\"].unique()"
   ]
  },
  {
   "cell_type": "code",
   "execution_count": 30,
   "id": "deb441cd",
   "metadata": {},
   "outputs": [
    {
     "data": {
      "text/plain": [
       "<Axes: xlabel='slope', ylabel='target'>"
      ]
     },
     "execution_count": 30,
     "metadata": {},
     "output_type": "execute_result"
    },
    {
     "data": {
      "image/png": "[encoded data removed]",
      "text/plain": [
       "<Figure size 640x480 with 1 Axes>"
      ]
     },
     "metadata": {},
     "output_type": "display_data"
    }
   ],
   "source": [
    "sns.barplot(x='slope', y='target', data=dataset)"
   ]
  },
  {
   "cell_type": "code",
   "execution_count": 31,
   "id": "623b59ed",
   "metadata": {},
   "outputs": [
    {
     "data": {
      "text/plain": [
       "array([0, 2, 1, 3, 4], dtype=int64)"
      ]
     },
     "execution_count": 31,
     "metadata": {},
     "output_type": "execute_result"
    }
   ],
   "source": [
    "dataset[\"ca\"].unique()"
   ]
  },
  {
   "cell_type": "code",
   "execution_count": 32,
   "id": "b59407f6",
   "metadata": {},
   "outputs": [
    {
     "data": {
      "text/plain": [
       "<Axes: ylabel='count'>"
      ]
     },
     "execution_count": 32,
     "metadata": {},
     "output_type": "execute_result"
    },
    {
     "data": {
      "image/png": "[encoded data removed]",
      "text/plain": [
       "<Figure size 640x480 with 1 Axes>"
      ]
     },
     "metadata": {},
     "output_type": "display_data"
    }
   ],
   "source": [
    "sns.countplot(dataset[\"ca\"])"
   ]
  },
  {
   "cell_type": "code",
   "execution_count": 33,
   "id": "3fc7364a",
   "metadata": {},
   "outputs": [
    {
     "data": {
      "text/plain": [
       "<Axes: xlabel='ca', ylabel='target'>"
      ]
     },
     "execution_count": 33,
     "metadata": {},
     "output_type": "execute_result"
    },
    {
     "data": {
      "image/png": "[encoded data removed]",
      "text/plain": [
       "<Figure size 640x480 with 1 Axes>"
      ]
     },
     "metadata": {},
     "output_type": "display_data"
    }
   ],
   "source": [
    "sns.barplot(x='ca', y='target', data=dataset)"
   ]
  },
  {
   "cell_type": "code",
   "execution_count": 34,
   "id": "9bfdab4c",
   "metadata": {},
   "outputs": [
    {
     "data": {
      "text/plain": [
       "array([1, 2, 3, 0], dtype=int64)"
      ]
     },
     "execution_count": 34,
     "metadata": {},
     "output_type": "execute_result"
    }
   ],
   "source": [
    "dataset[\"thal\"].unique()"
   ]
  },
  {
   "cell_type": "code",
   "execution_count": 35,
   "id": "10b265eb",
   "metadata": {},
   "outputs": [
    {
     "data": {
      "text/plain": [
       "<Axes: xlabel='thal', ylabel='target'>"
      ]
     },
     "execution_count": 35,
     "metadata": {},
     "output_type": "execute_result"
    },
    {
     "data": {
      "image/png": "[encoded data removed]",
      "text/plain": [
       "<Figure size 640x480 with 1 Axes>"
      ]
     },
     "metadata": {},
     "output_type": "display_data"
    }
   ],
   "source": [
    "sns.barplot(x='thal', y='target', data=dataset)"
   ]
  },
  {
   "cell_type": "code",
   "execution_count": 36,
   "id": "ee9bf452",
   "metadata": {},
   "outputs": [
    {
     "data": {
      "text/plain": [
       "<Axes: xlabel='thal', ylabel='Density'>"
      ]
     },
     "execution_count": 36,
     "metadata": {},
     "output_type": "execute_result"
    },
    {
     "data": {
      "image/png": "[encoded data removed]",
      "text/plain": [
       "<Figure size 640x480 with 1 Axes>"
      ]
     },
     "metadata": {},
     "output_type": "display_data"
    }
   ],
   "source": [
    "sns.distplot(dataset[\"thal\"])"
   ]
  },
  {
   "cell_type": "code",
   "execution_count": 39,
   "id": "dab3b8d0",
   "metadata": {},
   "outputs": [],
   "source": [
    "from sklearn.model_selection import train_test_split\n",
    "\n",
    "predictors = dataset.drop(\"target\",axis=1)\n",
    "target = dataset[\"target\"]\n",
    "\n",
    "X_train,X_test,Y_train,Y_test = train_test_split(predictors,target,test_size=0.20,random_state=0)"
   ]
  },
  {
   "cell_type": "code",
   "execution_count": 40,
   "id": "7354ad7a",
   "metadata": {
    "scrolled": true
   },
   "outputs": [
    {
     "data": {
      "text/plain": [
       "(242, 13)"
      ]
     },
     "execution_count": 40,
     "metadata": {},
     "output_type": "execute_result"
    }
   ],
   "source": [
    "X_train.shape"
   ]
  },
  {
   "cell_type": "code",
   "execution_count": 41,
   "id": "d9566f3e",
   "metadata": {},
   "outputs": [
    {
     "data": {
      "text/plain": [
       "(61, 13)"
      ]
     },
     "execution_count": 41,
     "metadata": {},
     "output_type": "execute_result"
    }
   ],
   "source": [
    "X_test.shape"
   ]
  },
  {
   "cell_type": "code",
   "execution_count": 42,
   "id": "50a977fa",
   "metadata": {},
   "outputs": [
    {
     "data": {
      "text/plain": [
       "(242,)"
      ]
     },
     "execution_count": 42,
     "metadata": {},
     "output_type": "execute_result"
    }
   ],
   "source": [
    "Y_train.shape"
   ]
  },
  {
   "cell_type": "code",
   "execution_count": 43,
   "id": "21717d90",
   "metadata": {},
   "outputs": [
    {
     "data": {
      "text/plain": [
       "(61,)"
      ]
     },
     "execution_count": 43,
     "metadata": {},
     "output_type": "execute_result"
    }
   ],
   "source": [
    "Y_test.shape"
   ]
  },
  {
   "cell_type": "code",
   "execution_count": 44,
   "id": "4b5242e8",
   "metadata": {},
   "outputs": [],
   "source": [
    "from sklearn.metrics import accuracy_score"
   ]
  },
  {
   "cell_type": "code",
   "execution_count": 45,
   "id": "7cb2f588",
   "metadata": {},
   "outputs": [],
   "source": [
    "from sklearn.linear_model import LogisticRegression\n",
    "\n",
    "lr = LogisticRegression()\n",
    "\n",
    "lr.fit(X_train,Y_train)\n",
    "\n",
    "Y_pred_lr = lr.predict(X_test)"
   ]
  },
  {
   "cell_type": "code",
   "execution_count": 46,
   "id": "be85818c",
   "metadata": {},
   "outputs": [
    {
     "data": {
      "text/plain": [
       "(61,)"
      ]
     },
     "execution_count": 46,
     "metadata": {},
     "output_type": "execute_result"
    }
   ],
   "source": [
    "Y_pred_lr.shape"
   ]
  },
  {
   "cell_type": "code",
   "execution_count": 47,
   "id": "10b1fcdb",
   "metadata": {},
   "outputs": [
    {
     "name": "stdout",
     "output_type": "stream",
     "text": [
      "The accuracy score achieved using Logistic Regression is: 85.25 %\n"
     ]
    }
   ],
   "source": [
    "score_lr = round(accuracy_score(Y_pred_lr,Y_test)*100,2)\n",
    "print(\"The accuracy score achieved using Logistic Regression is: \"+str(score_lr)+\" %\")"
   ]
  },
  {
   "cell_type": "code",
   "execution_count": 48,
   "id": "e35c6406",
   "metadata": {},
   "outputs": [],
   "source": [
    "from sklearn.naive_bayes import GaussianNB\n",
    "nb = GaussianNB()\n",
    "nb.fit(X_train,Y_train)\n",
    "Y_pred_nb = nb.predict(X_test)"
   ]
  },
  {
   "cell_type": "code",
   "execution_count": 49,
   "id": "2b0ab7fd",
   "metadata": {},
   "outputs": [
    {
     "data": {
      "text/plain": [
       "(61,)"
      ]
     },
     "execution_count": 49,
     "metadata": {},
     "output_type": "execute_result"
    }
   ],
   "source": [
    "Y_pred_nb.shape"
   ]
  },
  {
   "cell_type": "code",
   "execution_count": 50,
   "id": "b278cab7",
   "metadata": {},
   "outputs": [
    {
     "name": "stdout",
     "output_type": "stream",
     "text": [
      "The accuracy score achieved using Naive Bayes is: 85.25 %\n"
     ]
    }
   ],
   "source": [
    "score_nb = round(accuracy_score(Y_pred_nb,Y_test)*100,2)\n",
    "print(\"The accuracy score achieved using Naive Bayes is: \"+str(score_nb)+\" %\")"
   ]
  },
  {
   "cell_type": "code",
   "execution_count": 51,
   "id": "0d1bf735",
   "metadata": {},
   "outputs": [],
   "source": [
    "from sklearn import svm\n",
    "sv = svm.SVC(kernel='linear')\n",
    "sv.fit(X_train, Y_train)\n",
    "Y_pred_svm = sv.predict(X_test)"
   ]
  },
  {
   "cell_type": "code",
   "execution_count": 52,
   "id": "293672f5",
   "metadata": {},
   "outputs": [
    {
     "data": {
      "text/plain": [
       "(61,)"
      ]
     },
     "execution_count": 52,
     "metadata": {},
     "output_type": "execute_result"
    }
   ],
   "source": [
    "Y_pred_svm.shape"
   ]
  },
  {
   "cell_type": "code",
   "execution_count": 53,
   "id": "3cbb7dbf",
   "metadata": {},
   "outputs": [
    {
     "name": "stdout",
     "output_type": "stream",
     "text": [
      "The accuracy score achieved using Linear SVM is: 81.97 %\n"
     ]
    }
   ],
   "source": [
    "score_svm = round(accuracy_score(Y_pred_svm,Y_test)*100,2)\n",
    "print(\"The accuracy score achieved using Linear SVM is: \"+str(score_svm)+\" %\")"
   ]
  },
  {
   "cell_type": "code",
   "execution_count": 54,
   "id": "80c72960",
   "metadata": {},
   "outputs": [],
   "source": [
    "from sklearn.neighbors import KNeighborsClassifier\n",
    "knn = KNeighborsClassifier(n_neighbors=7)\n",
    "knn.fit(X_train,Y_train)\n",
    "Y_pred_knn=knn.predict(X_test)"
   ]
  },
  {
   "cell_type": "code",
   "execution_count": 55,
   "id": "58167189",
   "metadata": {},
   "outputs": [
    {
     "data": {
      "text/plain": [
       "(61,)"
      ]
     },
     "execution_count": 55,
     "metadata": {},
     "output_type": "execute_result"
    }
   ],
   "source": [
    "Y_pred_knn.shape"
   ]
  },
  {
   "cell_type": "code",
   "execution_count": 56,
   "id": "f1fcf523",
   "metadata": {},
   "outputs": [
    {
     "name": "stdout",
     "output_type": "stream",
     "text": [
      "The accuracy score achieved using KNN is: 67.21 %\n"
     ]
    }
   ],
   "source": [
    "score_knn = round(accuracy_score(Y_pred_knn,Y_test)*100,2)\n",
    "print(\"The accuracy score achieved using KNN is: \"+str(score_knn)+\" %\")"
   ]
  },
  {
   "cell_type": "code",
   "execution_count": 57,
   "id": "c2f8c577",
   "metadata": {},
   "outputs": [],
   "source": [
    "from sklearn.tree import DecisionTreeClassifier\n",
    "\n",
    "max_accuracy = 0\n",
    "\n",
    "\n",
    "for x in range(200):\n",
    "    dt = DecisionTreeClassifier(random_state=x)\n",
    "    dt.fit(X_train,Y_train)\n",
    "    Y_pred_dt = dt.predict(X_test)\n",
    "    current_accuracy = round(accuracy_score(Y_pred_dt,Y_test)*100,2)\n",
    "    if(current_accuracy>max_accuracy):\n",
    "        max_accuracy = current_accuracy\n",
    "        best_x = x\n",
    "\n",
    "dt = DecisionTreeClassifier(random_state=best_x)\n",
    "dt.fit(X_train,Y_train)\n",
    "Y_pred_dt = dt.predict(X_test)"
   ]
  },
  {
   "cell_type": "code",
   "execution_count": 58,
   "id": "acbfa43b",
   "metadata": {},
   "outputs": [
    {
     "name": "stdout",
     "output_type": "stream",
     "text": [
      "(61,)\n"
     ]
    }
   ],
   "source": [
    "print(Y_pred_dt.shape)"
   ]
  },
  {
   "cell_type": "code",
   "execution_count": 62,
   "id": "00a14167",
   "metadata": {},
   "outputs": [
    {
     "name": "stdout",
     "output_type": "stream",
     "text": [
      "The accuracy score achieved using Decision Tree is: 81.97 %\n"
     ]
    }
   ],
   "source": [
    "score_dt = round(accuracy_score(Y_pred_dt,Y_test)*100,2)\n",
    "print(\"The accuracy score achieved using Decision Tree is: \"+str(score_dt)+\" %\")"
   ]
  },
  {
   "cell_type": "code",
   "execution_count": 61,
   "id": "dd8ce5fe",
   "metadata": {},
   "outputs": [],
   "source": [
    "from sklearn.ensemble import RandomForestClassifier\n",
    "\n",
    "max_accuracy = 0\n",
    "\n",
    "\n",
    "for x in range(2000):\n",
    "    rf = RandomForestClassifier(random_state=x)\n",
    "    rf.fit(X_train,Y_train)\n",
    "    Y_pred_rf = rf.predict(X_test)\n",
    "    current_accuracy = round(accuracy_score(Y_pred_rf,Y_test)*100,2)\n",
    "    if(current_accuracy>max_accuracy):\n",
    "        max_accuracy = current_accuracy\n",
    "        best_x = x\n",
    "        \n",
    "rf = RandomForestClassifier(random_state=best_x)\n",
    "rf.fit(X_train,Y_train)\n",
    "Y_pred_rf = rf.predict(X_test)"
   ]
  },
  {
   "cell_type": "code",
   "execution_count": 63,
   "id": "3dbf9d0d",
   "metadata": {},
   "outputs": [
    {
     "data": {
      "text/plain": [
       "(61,)"
      ]
     },
     "execution_count": 63,
     "metadata": {},
     "output_type": "execute_result"
    }
   ],
   "source": [
    "Y_pred_rf.shape"
   ]
  },
  {
   "cell_type": "code",
   "execution_count": 64,
   "id": "efdea589",
   "metadata": {},
   "outputs": [
    {
     "name": "stdout",
     "output_type": "stream",
     "text": [
      "The accuracy score achieved using Decision Tree is: 90.16 %\n"
     ]
    }
   ],
   "source": [
    "score_rf = round(accuracy_score(Y_pred_rf,Y_test)*100,2)\n",
    "print(\"The accuracy score achieved using Decision Tree is: \"+str(score_rf)+\" %\")"
   ]
  },
  {
   "cell_type": "code",
   "execution_count": 66,
   "id": "f330cc17",
   "metadata": {},
   "outputs": [],
   "source": [
    "import xgboost as xgb\n",
    "\n",
    "xgb_model = xgb.XGBClassifier(objective=\"binary:logistic\", random_state=42)\n",
    "xgb_model.fit(X_train, Y_train)\n",
    "\n",
    "Y_pred_xgb = xgb_model.predict(X_test)"
   ]
  },
  {
   "cell_type": "code",
   "execution_count": 67,
   "id": "5209e904",
   "metadata": {},
   "outputs": [
    {
     "data": {
      "text/plain": [
       "(61,)"
      ]
     },
     "execution_count": 67,
     "metadata": {},
     "output_type": "execute_result"
    }
   ],
   "source": [
    "Y_pred_xgb.shape"
   ]
  },
  {
   "cell_type": "code",
   "execution_count": 68,
   "id": "f4b69482",
   "metadata": {},
   "outputs": [
    {
     "name": "stdout",
     "output_type": "stream",
     "text": [
      "The accuracy score achieved using XGBoost is: 83.61 %\n"
     ]
    }
   ],
   "source": [
    "score_xgb = round(accuracy_score(Y_pred_xgb,Y_test)*100,2)\n",
    "print(\"The accuracy score achieved using XGBoost is: \"+str(score_xgb)+\" %\")"
   ]
  },
  {
   "cell_type": "code",
   "execution_count": 69,
   "id": "136b833b",
   "metadata": {},
   "outputs": [],
   "source": [
    "from keras.models import Sequential\n",
    "from keras.layers import Dense"
   ]
  },
  {
   "cell_type": "code",
   "execution_count": 70,
   "id": "4395555a",
   "metadata": {},
   "outputs": [],
   "source": [
    "model = Sequential()\n",
    "model.add(Dense(11,activation='relu',input_dim=13))\n",
    "model.add(Dense(1,activation='sigmoid'))\n",
    "\n",
    "model.compile(loss='binary_crossentropy',optimizer='adam',metrics=['accuracy'])"
   ]
  },
  {
   "cell_type": "code",
   "execution_count": 71,
   "id": "e768f555",
   "metadata": {
    "scrolled": false
   },
   "outputs": [
    {
     "name": "stdout",
     "output_type": "stream",
     "text": [
      "Epoch 1/300\n",
      "8/8 [==============================] - 1s 4ms/step - loss: 43.2698 - accuracy: 0.5413\n",
      "Epoch 2/300\n",
      "8/8 [==============================] - 0s 4ms/step - loss: 37.8240 - accuracy: 0.5413\n",
      "Epoch 3/300\n",
      "8/8 [==============================] - 0s 4ms/step - loss: 32.6012 - accuracy: 0.5413\n",
      "Epoch 4/300\n",
      "8/8 [==============================] - 0s 5ms/step - loss: 27.1876 - accuracy: 0.5413\n",
      "Epoch 5/300\n",
      "8/8 [==============================] - 0s 3ms/step - loss: 22.0835 - accuracy: 0.5413\n",
      "Epoch 6/300\n",
      "8/8 [==============================] - 0s 4ms/step - loss: 17.2986 - accuracy: 0.5413\n",
      "Epoch 7/300\n",
      "8/8 [==============================] - 0s 4ms/step - loss: 12.4534 - accuracy: 0.5413\n",
      "Epoch 8/300\n",
      "8/8 [==============================] - 0s 4ms/step - loss: 7.6868 - accuracy: 0.5455\n",
      "Epoch 9/300\n",
      "8/8 [==============================] - 0s 4ms/step - loss: 4.3702 - accuracy: 0.6157\n",
      "Epoch 10/300\n",
      "8/8 [==============================] - 0s 4ms/step - loss: 3.5342 - accuracy: 0.6033\n",
      "Epoch 11/300\n",
      "8/8 [==============================] - 0s 3ms/step - loss: 3.5723 - accuracy: 0.6116\n",
      "Epoch 12/300\n",
      "8/8 [==============================] - 0s 4ms/step - loss: 3.5239 - accuracy: 0.6116\n",
      "Epoch 13/300\n",
      "8/8 [==============================] - 0s 3ms/step - loss: 3.3357 - accuracy: 0.5950\n",
      "Epoch 14/300\n",
      "8/8 [==============================] - 0s 3ms/step - loss: 3.2107 - accuracy: 0.6074\n",
      "Epoch 15/300\n",
      "8/8 [==============================] - 0s 3ms/step - loss: 3.0459 - accuracy: 0.6033\n",
      "Epoch 16/300\n",
      "8/8 [==============================] - 0s 4ms/step - loss: 2.8774 - accuracy: 0.6033\n",
      "Epoch 17/300\n",
      "8/8 [==============================] - 0s 4ms/step - loss: 2.6111 - accuracy: 0.6074\n",
      "Epoch 18/300\n",
      "8/8 [==============================] - 0s 3ms/step - loss: 2.2697 - accuracy: 0.6281\n",
      "Epoch 19/300\n",
      "8/8 [==============================] - 0s 4ms/step - loss: 1.9428 - accuracy: 0.6529\n",
      "Epoch 20/300\n",
      "8/8 [==============================] - 0s 3ms/step - loss: 1.7092 - accuracy: 0.6364\n",
      "Epoch 21/300\n",
      "8/8 [==============================] - 0s 2ms/step - loss: 1.5345 - accuracy: 0.6777\n",
      "Epoch 22/300\n",
      "8/8 [==============================] - 0s 3ms/step - loss: 1.3995 - accuracy: 0.6942\n",
      "Epoch 23/300\n",
      "8/8 [==============================] - 0s 3ms/step - loss: 1.3103 - accuracy: 0.6736\n",
      "Epoch 24/300\n",
      "8/8 [==============================] - 0s 3ms/step - loss: 1.2293 - accuracy: 0.6570\n",
      "Epoch 25/300\n",
      "8/8 [==============================] - 0s 4ms/step - loss: 1.1867 - accuracy: 0.6736\n",
      "Epoch 26/300\n",
      "8/8 [==============================] - 0s 3ms/step - loss: 1.1529 - accuracy: 0.6405\n",
      "Epoch 27/300\n",
      "8/8 [==============================] - 0s 4ms/step - loss: 1.0588 - accuracy: 0.6612\n",
      "Epoch 28/300\n",
      "8/8 [==============================] - 0s 4ms/step - loss: 1.0350 - accuracy: 0.6405\n",
      "Epoch 29/300\n",
      "8/8 [==============================] - 0s 5ms/step - loss: 0.9748 - accuracy: 0.6570\n",
      "Epoch 30/300\n",
      "8/8 [==============================] - 0s 5ms/step - loss: 0.9271 - accuracy: 0.6570\n",
      "Epoch 31/300\n",
      "8/8 [==============================] - 0s 5ms/step - loss: 0.8870 - accuracy: 0.6612\n",
      "Epoch 32/300\n",
      "8/8 [==============================] - 0s 4ms/step - loss: 0.8543 - accuracy: 0.6653\n",
      "Epoch 33/300\n",
      "8/8 [==============================] - 0s 5ms/step - loss: 0.8089 - accuracy: 0.6942\n",
      "Epoch 34/300\n",
      "8/8 [==============================] - 0s 4ms/step - loss: 0.7704 - accuracy: 0.6942\n",
      "Epoch 35/300\n",
      "8/8 [==============================] - 0s 4ms/step - loss: 0.7466 - accuracy: 0.6777\n",
      "Epoch 36/300\n",
      "8/8 [==============================] - 0s 3ms/step - loss: 0.7232 - accuracy: 0.7025\n",
      "Epoch 37/300\n",
      "8/8 [==============================] - 0s 3ms/step - loss: 0.6847 - accuracy: 0.7025\n",
      "Epoch 38/300\n",
      "8/8 [==============================] - 0s 3ms/step - loss: 0.6726 - accuracy: 0.6983\n",
      "Epoch 39/300\n",
      "8/8 [==============================] - 0s 4ms/step - loss: 0.6449 - accuracy: 0.7066\n",
      "Epoch 40/300\n",
      "8/8 [==============================] - 0s 4ms/step - loss: 0.6300 - accuracy: 0.7107\n",
      "Epoch 41/300\n",
      "8/8 [==============================] - 0s 4ms/step - loss: 0.6427 - accuracy: 0.7273\n",
      "Epoch 42/300\n",
      "8/8 [==============================] - 0s 5ms/step - loss: 0.6466 - accuracy: 0.7190\n",
      "Epoch 43/300\n",
      "8/8 [==============================] - 0s 4ms/step - loss: 0.6123 - accuracy: 0.7107\n",
      "Epoch 44/300\n",
      "8/8 [==============================] - 0s 4ms/step - loss: 0.5829 - accuracy: 0.7314\n",
      "Epoch 45/300\n",
      "8/8 [==============================] - 0s 4ms/step - loss: 0.5623 - accuracy: 0.7397\n",
      "Epoch 46/300\n",
      "8/8 [==============================] - 0s 4ms/step - loss: 0.5641 - accuracy: 0.7314\n",
      "Epoch 47/300\n",
      "8/8 [==============================] - 0s 4ms/step - loss: 0.5556 - accuracy: 0.7397\n",
      "Epoch 48/300\n",
      "8/8 [==============================] - 0s 5ms/step - loss: 0.5418 - accuracy: 0.7355\n",
      "Epoch 49/300\n",
      "8/8 [==============================] - 0s 4ms/step - loss: 0.5386 - accuracy: 0.7479\n",
      "Epoch 50/300\n",
      "8/8 [==============================] - 0s 5ms/step - loss: 0.5124 - accuracy: 0.7273\n",
      "Epoch 51/300\n",
      "8/8 [==============================] - 0s 5ms/step - loss: 0.4959 - accuracy: 0.7645\n",
      "Epoch 52/300\n",
      "8/8 [==============================] - 0s 5ms/step - loss: 0.4921 - accuracy: 0.7727\n",
      "Epoch 53/300\n",
      "8/8 [==============================] - 0s 5ms/step - loss: 0.4872 - accuracy: 0.7851\n",
      "Epoch 54/300\n",
      "8/8 [==============================] - 0s 4ms/step - loss: 0.5070 - accuracy: 0.7521\n",
      "Epoch 55/300\n",
      "8/8 [==============================] - 0s 4ms/step - loss: 0.4798 - accuracy: 0.7645\n",
      "Epoch 56/300\n",
      "8/8 [==============================] - 0s 4ms/step - loss: 0.4644 - accuracy: 0.7727\n",
      "Epoch 57/300\n",
      "8/8 [==============================] - 0s 4ms/step - loss: 0.4659 - accuracy: 0.7769\n",
      "Epoch 58/300\n",
      "8/8 [==============================] - 0s 4ms/step - loss: 0.4754 - accuracy: 0.7810\n",
      "Epoch 59/300\n",
      "8/8 [==============================] - 0s 4ms/step - loss: 0.4645 - accuracy: 0.7645\n",
      "Epoch 60/300\n",
      "8/8 [==============================] - 0s 4ms/step - loss: 0.4595 - accuracy: 0.7810\n",
      "Epoch 61/300\n",
      "8/8 [==============================] - 0s 4ms/step - loss: 0.4407 - accuracy: 0.7893\n",
      "Epoch 62/300\n",
      "8/8 [==============================] - 0s 4ms/step - loss: 0.4331 - accuracy: 0.8058\n",
      "Epoch 63/300\n",
      "8/8 [==============================] - 0s 5ms/step - loss: 0.4438 - accuracy: 0.7975\n",
      "Epoch 64/300\n",
      "8/8 [==============================] - 0s 5ms/step - loss: 0.4273 - accuracy: 0.8099\n",
      "Epoch 65/300\n",
      "8/8 [==============================] - 0s 5ms/step - loss: 0.4372 - accuracy: 0.7975\n",
      "Epoch 66/300\n",
      "8/8 [==============================] - 0s 5ms/step - loss: 0.4380 - accuracy: 0.7975\n",
      "Epoch 67/300\n",
      "8/8 [==============================] - 0s 5ms/step - loss: 0.4198 - accuracy: 0.8017\n",
      "Epoch 68/300\n",
      "8/8 [==============================] - 0s 5ms/step - loss: 0.4491 - accuracy: 0.7686\n",
      "Epoch 69/300\n",
      "8/8 [==============================] - 0s 5ms/step - loss: 0.4215 - accuracy: 0.8099\n",
      "Epoch 70/300\n",
      "8/8 [==============================] - 0s 5ms/step - loss: 0.4166 - accuracy: 0.8140\n",
      "Epoch 71/300\n",
      "8/8 [==============================] - 0s 5ms/step - loss: 0.4502 - accuracy: 0.7686\n",
      "Epoch 72/300\n",
      "8/8 [==============================] - 0s 5ms/step - loss: 0.4336 - accuracy: 0.8140\n",
      "Epoch 73/300\n",
      "8/8 [==============================] - 0s 5ms/step - loss: 0.4143 - accuracy: 0.8140\n",
      "Epoch 74/300\n",
      "8/8 [==============================] - 0s 5ms/step - loss: 0.4021 - accuracy: 0.8347\n",
      "Epoch 75/300\n",
      "8/8 [==============================] - 0s 5ms/step - loss: 0.4120 - accuracy: 0.8182\n",
      "Epoch 76/300\n",
      "8/8 [==============================] - 0s 5ms/step - loss: 0.4068 - accuracy: 0.8223\n",
      "Epoch 77/300\n",
      "8/8 [==============================] - 0s 5ms/step - loss: 0.4110 - accuracy: 0.8140\n",
      "Epoch 78/300\n",
      "8/8 [==============================] - 0s 4ms/step - loss: 0.4062 - accuracy: 0.8182\n",
      "Epoch 79/300\n",
      "8/8 [==============================] - 0s 5ms/step - loss: 0.4145 - accuracy: 0.8182\n",
      "Epoch 80/300\n",
      "8/8 [==============================] - 0s 5ms/step - loss: 0.4089 - accuracy: 0.8182\n",
      "Epoch 81/300\n",
      "8/8 [==============================] - 0s 5ms/step - loss: 0.4072 - accuracy: 0.8223\n",
      "Epoch 82/300\n",
      "8/8 [==============================] - 0s 6ms/step - loss: 0.4120 - accuracy: 0.7975\n",
      "Epoch 83/300\n",
      "8/8 [==============================] - 0s 6ms/step - loss: 0.4195 - accuracy: 0.8058\n",
      "Epoch 84/300\n",
      "8/8 [==============================] - 0s 6ms/step - loss: 0.4078 - accuracy: 0.8058\n",
      "Epoch 85/300\n",
      "8/8 [==============================] - 0s 4ms/step - loss: 0.4178 - accuracy: 0.7893\n",
      "Epoch 86/300\n",
      "8/8 [==============================] - 0s 4ms/step - loss: 0.3964 - accuracy: 0.8140\n",
      "Epoch 87/300\n",
      "8/8 [==============================] - 0s 4ms/step - loss: 0.3986 - accuracy: 0.8182\n",
      "Epoch 88/300\n",
      "8/8 [==============================] - 0s 4ms/step - loss: 0.3918 - accuracy: 0.8264\n",
      "Epoch 89/300\n",
      "8/8 [==============================] - 0s 5ms/step - loss: 0.4099 - accuracy: 0.8058\n",
      "Epoch 90/300\n",
      "8/8 [==============================] - 0s 4ms/step - loss: 0.3805 - accuracy: 0.8347\n",
      "Epoch 91/300\n",
      "8/8 [==============================] - 0s 4ms/step - loss: 0.4017 - accuracy: 0.8223\n",
      "Epoch 92/300\n",
      "8/8 [==============================] - 0s 5ms/step - loss: 0.4242 - accuracy: 0.7934\n",
      "Epoch 93/300\n",
      "8/8 [==============================] - 0s 5ms/step - loss: 0.3997 - accuracy: 0.8264\n",
      "Epoch 94/300\n",
      "8/8 [==============================] - 0s 4ms/step - loss: 0.3990 - accuracy: 0.8058\n",
      "Epoch 95/300\n",
      "8/8 [==============================] - 0s 4ms/step - loss: 0.3986 - accuracy: 0.8223\n",
      "Epoch 96/300\n",
      "8/8 [==============================] - 0s 4ms/step - loss: 0.4037 - accuracy: 0.8140\n",
      "Epoch 97/300\n",
      "8/8 [==============================] - 0s 4ms/step - loss: 0.4124 - accuracy: 0.8182\n",
      "Epoch 98/300\n",
      "8/8 [==============================] - 0s 4ms/step - loss: 0.3945 - accuracy: 0.8264\n",
      "Epoch 99/300\n",
      "8/8 [==============================] - 0s 4ms/step - loss: 0.3832 - accuracy: 0.8388\n",
      "Epoch 100/300\n",
      "8/8 [==============================] - 0s 4ms/step - loss: 0.3917 - accuracy: 0.8223\n",
      "Epoch 101/300\n",
      "8/8 [==============================] - 0s 4ms/step - loss: 0.4232 - accuracy: 0.7975\n",
      "Epoch 102/300\n",
      "8/8 [==============================] - 0s 3ms/step - loss: 0.3854 - accuracy: 0.8388\n",
      "Epoch 103/300\n",
      "8/8 [==============================] - 0s 4ms/step - loss: 0.4096 - accuracy: 0.8058\n",
      "Epoch 104/300\n",
      "8/8 [==============================] - 0s 5ms/step - loss: 0.4207 - accuracy: 0.8099\n",
      "Epoch 105/300\n",
      "8/8 [==============================] - 0s 5ms/step - loss: 0.4290 - accuracy: 0.8099\n",
      "Epoch 106/300\n",
      "8/8 [==============================] - 0s 5ms/step - loss: 0.3803 - accuracy: 0.8264\n",
      "Epoch 107/300\n",
      "8/8 [==============================] - 0s 4ms/step - loss: 0.3745 - accuracy: 0.8512\n",
      "Epoch 108/300\n",
      "8/8 [==============================] - 0s 4ms/step - loss: 0.3847 - accuracy: 0.8264\n",
      "Epoch 109/300\n",
      "8/8 [==============================] - 0s 4ms/step - loss: 0.3747 - accuracy: 0.8471\n",
      "Epoch 110/300\n",
      "8/8 [==============================] - 0s 4ms/step - loss: 0.3769 - accuracy: 0.8512\n",
      "Epoch 111/300\n",
      "8/8 [==============================] - 0s 5ms/step - loss: 0.3733 - accuracy: 0.8512\n",
      "Epoch 112/300\n",
      "8/8 [==============================] - 0s 4ms/step - loss: 0.3876 - accuracy: 0.8388\n",
      "Epoch 113/300\n",
      "8/8 [==============================] - 0s 5ms/step - loss: 0.4006 - accuracy: 0.8223\n",
      "Epoch 114/300\n",
      "8/8 [==============================] - 0s 5ms/step - loss: 0.3875 - accuracy: 0.8388\n",
      "Epoch 115/300\n",
      "8/8 [==============================] - 0s 5ms/step - loss: 0.3887 - accuracy: 0.8223\n",
      "Epoch 116/300\n",
      "8/8 [==============================] - 0s 4ms/step - loss: 0.4104 - accuracy: 0.7934\n",
      "Epoch 117/300\n",
      "8/8 [==============================] - 0s 4ms/step - loss: 0.4381 - accuracy: 0.7934\n",
      "Epoch 118/300\n",
      "8/8 [==============================] - 0s 4ms/step - loss: 0.4270 - accuracy: 0.7975\n",
      "Epoch 119/300\n",
      "8/8 [==============================] - 0s 4ms/step - loss: 0.3985 - accuracy: 0.8306\n",
      "Epoch 120/300\n",
      "8/8 [==============================] - 0s 4ms/step - loss: 0.3715 - accuracy: 0.8430\n",
      "Epoch 121/300\n",
      "8/8 [==============================] - 0s 4ms/step - loss: 0.3801 - accuracy: 0.8430\n",
      "Epoch 122/300\n",
      "8/8 [==============================] - 0s 4ms/step - loss: 0.3691 - accuracy: 0.8554\n",
      "Epoch 123/300\n",
      "8/8 [==============================] - 0s 4ms/step - loss: 0.3696 - accuracy: 0.8512\n",
      "Epoch 124/300\n",
      "8/8 [==============================] - 0s 4ms/step - loss: 0.3718 - accuracy: 0.8347\n",
      "Epoch 125/300\n",
      "8/8 [==============================] - 0s 4ms/step - loss: 0.3730 - accuracy: 0.8512\n",
      "Epoch 126/300\n",
      "8/8 [==============================] - 0s 5ms/step - loss: 0.3646 - accuracy: 0.8678\n",
      "Epoch 127/300\n",
      "8/8 [==============================] - 0s 4ms/step - loss: 0.3644 - accuracy: 0.8678\n",
      "Epoch 128/300\n",
      "8/8 [==============================] - 0s 4ms/step - loss: 0.3706 - accuracy: 0.8430\n",
      "Epoch 129/300\n",
      "8/8 [==============================] - 0s 4ms/step - loss: 0.3625 - accuracy: 0.8678\n",
      "Epoch 130/300\n",
      "8/8 [==============================] - 0s 4ms/step - loss: 0.3785 - accuracy: 0.8182\n",
      "Epoch 131/300\n",
      "8/8 [==============================] - 0s 4ms/step - loss: 0.3927 - accuracy: 0.8223\n",
      "Epoch 132/300\n",
      "8/8 [==============================] - 0s 4ms/step - loss: 0.3801 - accuracy: 0.8347\n",
      "Epoch 133/300\n",
      "8/8 [==============================] - 0s 4ms/step - loss: 0.3724 - accuracy: 0.8430\n",
      "Epoch 134/300\n",
      "8/8 [==============================] - 0s 4ms/step - loss: 0.3627 - accuracy: 0.8678\n",
      "Epoch 135/300\n",
      "8/8 [==============================] - 0s 4ms/step - loss: 0.3624 - accuracy: 0.8554\n",
      "Epoch 136/300\n",
      "8/8 [==============================] - 0s 4ms/step - loss: 0.3733 - accuracy: 0.8306\n",
      "Epoch 137/300\n",
      "8/8 [==============================] - 0s 5ms/step - loss: 0.3921 - accuracy: 0.8223\n",
      "Epoch 138/300\n",
      "8/8 [==============================] - 0s 4ms/step - loss: 0.3704 - accuracy: 0.8512\n",
      "Epoch 139/300\n",
      "8/8 [==============================] - 0s 4ms/step - loss: 0.3630 - accuracy: 0.8471\n",
      "Epoch 140/300\n",
      "8/8 [==============================] - 0s 4ms/step - loss: 0.3602 - accuracy: 0.8512\n",
      "Epoch 141/300\n",
      "8/8 [==============================] - 0s 4ms/step - loss: 0.3808 - accuracy: 0.8347\n",
      "Epoch 142/300\n",
      "8/8 [==============================] - 0s 4ms/step - loss: 0.3665 - accuracy: 0.8430\n",
      "Epoch 143/300\n",
      "8/8 [==============================] - 0s 4ms/step - loss: 0.3629 - accuracy: 0.8554\n",
      "Epoch 144/300\n",
      "8/8 [==============================] - 0s 4ms/step - loss: 0.3723 - accuracy: 0.8512\n",
      "Epoch 145/300\n",
      "8/8 [==============================] - 0s 4ms/step - loss: 0.3807 - accuracy: 0.8347\n",
      "Epoch 146/300\n",
      "8/8 [==============================] - 0s 4ms/step - loss: 0.3679 - accuracy: 0.8554\n",
      "Epoch 147/300\n",
      "8/8 [==============================] - 0s 4ms/step - loss: 0.3616 - accuracy: 0.8636\n",
      "Epoch 148/300\n",
      "8/8 [==============================] - 0s 5ms/step - loss: 0.3607 - accuracy: 0.8636\n",
      "Epoch 149/300\n",
      "8/8 [==============================] - 0s 5ms/step - loss: 0.3618 - accuracy: 0.8595\n",
      "Epoch 150/300\n",
      "8/8 [==============================] - 0s 5ms/step - loss: 0.3591 - accuracy: 0.8595\n",
      "Epoch 151/300\n",
      "8/8 [==============================] - 0s 4ms/step - loss: 0.3642 - accuracy: 0.8388\n",
      "Epoch 152/300\n",
      "8/8 [==============================] - 0s 4ms/step - loss: 0.3734 - accuracy: 0.8512\n",
      "Epoch 153/300\n",
      "8/8 [==============================] - 0s 4ms/step - loss: 0.3692 - accuracy: 0.8430\n",
      "Epoch 154/300\n",
      "8/8 [==============================] - 0s 4ms/step - loss: 0.3723 - accuracy: 0.8347\n",
      "Epoch 155/300\n",
      "8/8 [==============================] - 0s 4ms/step - loss: 0.3711 - accuracy: 0.8471\n",
      "Epoch 156/300\n",
      "8/8 [==============================] - 0s 5ms/step - loss: 0.3596 - accuracy: 0.8554\n",
      "Epoch 157/300\n",
      "8/8 [==============================] - 0s 4ms/step - loss: 0.3589 - accuracy: 0.8678\n",
      "Epoch 158/300\n",
      "8/8 [==============================] - 0s 5ms/step - loss: 0.3576 - accuracy: 0.8388\n",
      "Epoch 159/300\n",
      "8/8 [==============================] - 0s 5ms/step - loss: 0.3703 - accuracy: 0.8264\n",
      "Epoch 160/300\n",
      "8/8 [==============================] - 0s 5ms/step - loss: 0.3733 - accuracy: 0.8347\n",
      "Epoch 161/300\n",
      "8/8 [==============================] - 0s 4ms/step - loss: 0.3676 - accuracy: 0.8595\n",
      "Epoch 162/300\n",
      "8/8 [==============================] - 0s 4ms/step - loss: 0.3566 - accuracy: 0.8636\n",
      "Epoch 163/300\n",
      "8/8 [==============================] - 0s 4ms/step - loss: 0.3730 - accuracy: 0.8099\n",
      "Epoch 164/300\n",
      "8/8 [==============================] - 0s 3ms/step - loss: 0.3572 - accuracy: 0.8595\n",
      "Epoch 165/300\n",
      "8/8 [==============================] - 0s 4ms/step - loss: 0.3727 - accuracy: 0.8512\n",
      "Epoch 166/300\n",
      "8/8 [==============================] - 0s 4ms/step - loss: 0.3837 - accuracy: 0.8182\n",
      "Epoch 167/300\n",
      "8/8 [==============================] - 0s 5ms/step - loss: 0.3793 - accuracy: 0.8347\n",
      "Epoch 168/300\n",
      "8/8 [==============================] - 0s 4ms/step - loss: 0.3528 - accuracy: 0.8678\n",
      "Epoch 169/300\n",
      "8/8 [==============================] - 0s 5ms/step - loss: 0.3508 - accuracy: 0.8471\n",
      "Epoch 170/300\n",
      "8/8 [==============================] - 0s 4ms/step - loss: 0.3821 - accuracy: 0.8347\n",
      "Epoch 171/300\n",
      "8/8 [==============================] - 0s 4ms/step - loss: 0.3582 - accuracy: 0.8430\n",
      "Epoch 172/300\n",
      "8/8 [==============================] - 0s 4ms/step - loss: 0.3552 - accuracy: 0.8636\n",
      "Epoch 173/300\n",
      "8/8 [==============================] - 0s 5ms/step - loss: 0.3555 - accuracy: 0.8388\n",
      "Epoch 174/300\n",
      "8/8 [==============================] - 0s 5ms/step - loss: 0.3598 - accuracy: 0.8512\n",
      "Epoch 175/300\n",
      "8/8 [==============================] - 0s 6ms/step - loss: 0.3577 - accuracy: 0.8554\n",
      "Epoch 176/300\n",
      "8/8 [==============================] - 0s 5ms/step - loss: 0.3685 - accuracy: 0.8347\n",
      "Epoch 177/300\n",
      "8/8 [==============================] - 0s 4ms/step - loss: 0.3571 - accuracy: 0.8595\n",
      "Epoch 178/300\n",
      "8/8 [==============================] - 0s 4ms/step - loss: 0.3602 - accuracy: 0.8388\n",
      "Epoch 179/300\n",
      "8/8 [==============================] - 0s 4ms/step - loss: 0.3735 - accuracy: 0.8471\n",
      "Epoch 180/300\n",
      "8/8 [==============================] - 0s 5ms/step - loss: 0.3739 - accuracy: 0.8388\n",
      "Epoch 181/300\n",
      "8/8 [==============================] - 0s 5ms/step - loss: 0.3579 - accuracy: 0.8554\n",
      "Epoch 182/300\n",
      "8/8 [==============================] - 0s 5ms/step - loss: 0.3598 - accuracy: 0.8512\n",
      "Epoch 183/300\n",
      "8/8 [==============================] - 0s 5ms/step - loss: 0.3619 - accuracy: 0.8595\n",
      "Epoch 184/300\n",
      "8/8 [==============================] - 0s 4ms/step - loss: 0.3561 - accuracy: 0.8430\n",
      "Epoch 185/300\n",
      "8/8 [==============================] - 0s 4ms/step - loss: 0.3521 - accuracy: 0.8554\n",
      "Epoch 186/300\n",
      "8/8 [==============================] - 0s 4ms/step - loss: 0.3606 - accuracy: 0.8388\n",
      "Epoch 187/300\n",
      "8/8 [==============================] - 0s 4ms/step - loss: 0.3580 - accuracy: 0.8471\n",
      "Epoch 188/300\n",
      "8/8 [==============================] - 0s 4ms/step - loss: 0.3616 - accuracy: 0.8388\n",
      "Epoch 189/300\n",
      "8/8 [==============================] - 0s 4ms/step - loss: 0.3555 - accuracy: 0.8471\n",
      "Epoch 190/300\n",
      "8/8 [==============================] - 0s 4ms/step - loss: 0.3858 - accuracy: 0.8099\n",
      "Epoch 191/300\n",
      "8/8 [==============================] - 0s 4ms/step - loss: 0.3778 - accuracy: 0.8388\n",
      "Epoch 192/300\n",
      "8/8 [==============================] - 0s 3ms/step - loss: 0.3690 - accuracy: 0.8182\n",
      "Epoch 193/300\n",
      "8/8 [==============================] - 0s 4ms/step - loss: 0.3564 - accuracy: 0.8512\n",
      "Epoch 194/300\n",
      "8/8 [==============================] - 0s 4ms/step - loss: 0.3609 - accuracy: 0.8471\n",
      "Epoch 195/300\n",
      "8/8 [==============================] - 0s 4ms/step - loss: 0.3501 - accuracy: 0.8636\n",
      "Epoch 196/300\n",
      "8/8 [==============================] - 0s 5ms/step - loss: 0.3581 - accuracy: 0.8512\n",
      "Epoch 197/300\n",
      "8/8 [==============================] - 0s 5ms/step - loss: 0.3551 - accuracy: 0.8554\n",
      "Epoch 198/300\n",
      "8/8 [==============================] - 0s 5ms/step - loss: 0.3760 - accuracy: 0.8388\n",
      "Epoch 199/300\n",
      "8/8 [==============================] - 0s 4ms/step - loss: 0.3529 - accuracy: 0.8636\n",
      "Epoch 200/300\n",
      "8/8 [==============================] - 0s 5ms/step - loss: 0.3673 - accuracy: 0.8636\n",
      "Epoch 201/300\n",
      "8/8 [==============================] - 0s 5ms/step - loss: 0.3600 - accuracy: 0.8430\n",
      "Epoch 202/300\n",
      "8/8 [==============================] - 0s 4ms/step - loss: 0.3521 - accuracy: 0.8388\n",
      "Epoch 203/300\n",
      "8/8 [==============================] - 0s 5ms/step - loss: 0.3551 - accuracy: 0.8512\n",
      "Epoch 204/300\n",
      "8/8 [==============================] - 0s 5ms/step - loss: 0.3628 - accuracy: 0.8306\n",
      "Epoch 205/300\n",
      "8/8 [==============================] - 0s 6ms/step - loss: 0.3650 - accuracy: 0.8264\n",
      "Epoch 206/300\n",
      "8/8 [==============================] - 0s 5ms/step - loss: 0.3829 - accuracy: 0.8264\n",
      "Epoch 207/300\n",
      "8/8 [==============================] - 0s 5ms/step - loss: 0.3406 - accuracy: 0.8678\n",
      "Epoch 208/300\n",
      "8/8 [==============================] - 0s 6ms/step - loss: 0.3633 - accuracy: 0.8388\n",
      "Epoch 209/300\n",
      "8/8 [==============================] - 0s 6ms/step - loss: 0.3690 - accuracy: 0.8471\n",
      "Epoch 210/300\n",
      "8/8 [==============================] - 0s 9ms/step - loss: 0.3657 - accuracy: 0.8471\n",
      "Epoch 211/300\n",
      "8/8 [==============================] - 0s 8ms/step - loss: 0.3537 - accuracy: 0.8719\n",
      "Epoch 212/300\n",
      "8/8 [==============================] - 0s 7ms/step - loss: 0.3658 - accuracy: 0.8347\n",
      "Epoch 213/300\n",
      "8/8 [==============================] - 0s 6ms/step - loss: 0.3593 - accuracy: 0.8512\n",
      "Epoch 214/300\n",
      "8/8 [==============================] - 0s 8ms/step - loss: 0.3503 - accuracy: 0.8512\n",
      "Epoch 215/300\n",
      "8/8 [==============================] - 0s 6ms/step - loss: 0.3568 - accuracy: 0.8223\n",
      "Epoch 216/300\n",
      "8/8 [==============================] - 0s 7ms/step - loss: 0.3820 - accuracy: 0.8347\n",
      "Epoch 217/300\n",
      "8/8 [==============================] - 0s 5ms/step - loss: 0.3710 - accuracy: 0.8182\n",
      "Epoch 218/300\n",
      "8/8 [==============================] - 0s 5ms/step - loss: 0.3491 - accuracy: 0.8388\n",
      "Epoch 219/300\n",
      "8/8 [==============================] - 0s 5ms/step - loss: 0.3547 - accuracy: 0.8554\n",
      "Epoch 220/300\n",
      "8/8 [==============================] - 0s 5ms/step - loss: 0.3491 - accuracy: 0.8719\n",
      "Epoch 221/300\n",
      "8/8 [==============================] - 0s 5ms/step - loss: 0.3567 - accuracy: 0.8388\n",
      "Epoch 222/300\n",
      "8/8 [==============================] - 0s 5ms/step - loss: 0.3566 - accuracy: 0.8512\n",
      "Epoch 223/300\n",
      "8/8 [==============================] - 0s 5ms/step - loss: 0.3499 - accuracy: 0.8512\n",
      "Epoch 224/300\n",
      "8/8 [==============================] - 0s 5ms/step - loss: 0.3502 - accuracy: 0.8512\n",
      "Epoch 225/300\n",
      "8/8 [==============================] - 0s 5ms/step - loss: 0.3468 - accuracy: 0.8636\n",
      "Epoch 226/300\n",
      "8/8 [==============================] - 0s 4ms/step - loss: 0.3486 - accuracy: 0.8388\n",
      "Epoch 227/300\n",
      "8/8 [==============================] - 0s 4ms/step - loss: 0.3689 - accuracy: 0.8430\n",
      "Epoch 228/300\n",
      "8/8 [==============================] - 0s 4ms/step - loss: 0.3625 - accuracy: 0.8430\n",
      "Epoch 229/300\n",
      "8/8 [==============================] - 0s 4ms/step - loss: 0.3720 - accuracy: 0.8471\n",
      "Epoch 230/300\n",
      "8/8 [==============================] - 0s 5ms/step - loss: 0.3636 - accuracy: 0.8306\n",
      "Epoch 231/300\n",
      "8/8 [==============================] - 0s 6ms/step - loss: 0.3702 - accuracy: 0.8471\n",
      "Epoch 232/300\n",
      "8/8 [==============================] - 0s 5ms/step - loss: 0.3930 - accuracy: 0.8099\n",
      "Epoch 233/300\n",
      "8/8 [==============================] - 0s 5ms/step - loss: 0.3582 - accuracy: 0.8595\n",
      "Epoch 234/300\n",
      "8/8 [==============================] - 0s 4ms/step - loss: 0.3611 - accuracy: 0.8512\n",
      "Epoch 235/300\n",
      "8/8 [==============================] - 0s 4ms/step - loss: 0.3826 - accuracy: 0.8306\n",
      "Epoch 236/300\n",
      "8/8 [==============================] - 0s 5ms/step - loss: 0.3510 - accuracy: 0.8471\n",
      "Epoch 237/300\n",
      "8/8 [==============================] - 0s 5ms/step - loss: 0.3503 - accuracy: 0.8554\n",
      "Epoch 238/300\n",
      "8/8 [==============================] - 0s 5ms/step - loss: 0.3581 - accuracy: 0.8388\n",
      "Epoch 239/300\n",
      "8/8 [==============================] - 0s 6ms/step - loss: 0.3540 - accuracy: 0.8554\n",
      "Epoch 240/300\n",
      "8/8 [==============================] - 0s 6ms/step - loss: 0.3608 - accuracy: 0.8471\n",
      "Epoch 241/300\n",
      "8/8 [==============================] - 0s 5ms/step - loss: 0.4277 - accuracy: 0.8264\n",
      "Epoch 242/300\n",
      "8/8 [==============================] - 0s 4ms/step - loss: 0.3990 - accuracy: 0.8058\n",
      "Epoch 243/300\n",
      "8/8 [==============================] - 0s 4ms/step - loss: 0.3410 - accuracy: 0.8595\n",
      "Epoch 244/300\n",
      "8/8 [==============================] - 0s 4ms/step - loss: 0.3719 - accuracy: 0.8471\n",
      "Epoch 245/300\n",
      "8/8 [==============================] - 0s 4ms/step - loss: 0.3778 - accuracy: 0.8264\n",
      "Epoch 246/300\n",
      "8/8 [==============================] - 0s 4ms/step - loss: 0.3495 - accuracy: 0.8595\n",
      "Epoch 247/300\n",
      "8/8 [==============================] - 0s 4ms/step - loss: 0.3452 - accuracy: 0.8678\n",
      "Epoch 248/300\n",
      "8/8 [==============================] - 0s 5ms/step - loss: 0.3481 - accuracy: 0.8512\n",
      "Epoch 249/300\n",
      "8/8 [==============================] - 0s 5ms/step - loss: 0.3560 - accuracy: 0.8430\n",
      "Epoch 250/300\n",
      "8/8 [==============================] - 0s 4ms/step - loss: 0.3825 - accuracy: 0.8388\n",
      "Epoch 251/300\n",
      "8/8 [==============================] - 0s 5ms/step - loss: 0.3607 - accuracy: 0.8554\n",
      "Epoch 252/300\n",
      "8/8 [==============================] - 0s 4ms/step - loss: 0.3499 - accuracy: 0.8678\n",
      "Epoch 253/300\n",
      "8/8 [==============================] - 0s 4ms/step - loss: 0.3703 - accuracy: 0.8264\n",
      "Epoch 254/300\n",
      "8/8 [==============================] - 0s 4ms/step - loss: 0.3674 - accuracy: 0.8388\n",
      "Epoch 255/300\n",
      "8/8 [==============================] - 0s 4ms/step - loss: 0.3558 - accuracy: 0.8388\n",
      "Epoch 256/300\n",
      "8/8 [==============================] - 0s 4ms/step - loss: 0.4013 - accuracy: 0.7975\n",
      "Epoch 257/300\n",
      "8/8 [==============================] - 0s 6ms/step - loss: 0.3585 - accuracy: 0.8471\n",
      "Epoch 258/300\n",
      "8/8 [==============================] - 0s 5ms/step - loss: 0.3540 - accuracy: 0.8512\n",
      "Epoch 259/300\n",
      "8/8 [==============================] - 0s 4ms/step - loss: 0.3488 - accuracy: 0.8430\n",
      "Epoch 260/300\n",
      "8/8 [==============================] - 0s 4ms/step - loss: 0.3673 - accuracy: 0.8554\n",
      "Epoch 261/300\n",
      "8/8 [==============================] - 0s 4ms/step - loss: 0.3535 - accuracy: 0.8595\n",
      "Epoch 262/300\n",
      "8/8 [==============================] - 0s 4ms/step - loss: 0.3585 - accuracy: 0.8347\n",
      "Epoch 263/300\n",
      "8/8 [==============================] - 0s 4ms/step - loss: 0.3758 - accuracy: 0.8264\n",
      "Epoch 264/300\n",
      "8/8 [==============================] - 0s 4ms/step - loss: 0.3446 - accuracy: 0.8678\n",
      "Epoch 265/300\n",
      "8/8 [==============================] - 0s 5ms/step - loss: 0.3469 - accuracy: 0.8471\n",
      "Epoch 266/300\n",
      "8/8 [==============================] - 0s 5ms/step - loss: 0.3665 - accuracy: 0.8223\n",
      "Epoch 267/300\n",
      "8/8 [==============================] - 0s 5ms/step - loss: 0.3664 - accuracy: 0.8347\n",
      "Epoch 268/300\n",
      "8/8 [==============================] - 0s 4ms/step - loss: 0.3864 - accuracy: 0.8140\n",
      "Epoch 269/300\n",
      "8/8 [==============================] - 0s 4ms/step - loss: 0.3589 - accuracy: 0.8512\n",
      "Epoch 270/300\n",
      "8/8 [==============================] - 0s 4ms/step - loss: 0.3642 - accuracy: 0.8430\n",
      "Epoch 271/300\n",
      "8/8 [==============================] - 0s 4ms/step - loss: 0.3512 - accuracy: 0.8595\n",
      "Epoch 272/300\n",
      "8/8 [==============================] - 0s 4ms/step - loss: 0.3608 - accuracy: 0.8554\n",
      "Epoch 273/300\n",
      "8/8 [==============================] - 0s 4ms/step - loss: 0.3666 - accuracy: 0.8264\n",
      "Epoch 274/300\n",
      "8/8 [==============================] - 0s 5ms/step - loss: 0.3478 - accuracy: 0.8512\n",
      "Epoch 275/300\n",
      "8/8 [==============================] - 0s 5ms/step - loss: 0.3834 - accuracy: 0.8264\n",
      "Epoch 276/300\n",
      "8/8 [==============================] - 0s 5ms/step - loss: 0.3658 - accuracy: 0.8512\n",
      "Epoch 277/300\n",
      "8/8 [==============================] - 0s 4ms/step - loss: 0.3969 - accuracy: 0.8099\n",
      "Epoch 278/300\n",
      "8/8 [==============================] - 0s 4ms/step - loss: 0.3468 - accuracy: 0.8471\n",
      "Epoch 279/300\n",
      "8/8 [==============================] - 0s 4ms/step - loss: 0.3461 - accuracy: 0.8512\n",
      "Epoch 280/300\n",
      "8/8 [==============================] - 0s 4ms/step - loss: 0.3623 - accuracy: 0.8388\n",
      "Epoch 281/300\n",
      "8/8 [==============================] - 0s 4ms/step - loss: 0.3615 - accuracy: 0.8512\n",
      "Epoch 282/300\n",
      "8/8 [==============================] - 0s 5ms/step - loss: 0.3588 - accuracy: 0.8388\n",
      "Epoch 283/300\n",
      "8/8 [==============================] - 0s 5ms/step - loss: 0.3866 - accuracy: 0.8388\n",
      "Epoch 284/300\n",
      "8/8 [==============================] - 0s 4ms/step - loss: 0.3510 - accuracy: 0.8760\n",
      "Epoch 285/300\n",
      "8/8 [==============================] - 0s 5ms/step - loss: 0.3463 - accuracy: 0.8636\n",
      "Epoch 286/300\n",
      "8/8 [==============================] - 0s 4ms/step - loss: 0.3538 - accuracy: 0.8430\n",
      "Epoch 287/300\n",
      "8/8 [==============================] - 0s 5ms/step - loss: 0.3538 - accuracy: 0.8636\n",
      "Epoch 288/300\n",
      "8/8 [==============================] - 0s 5ms/step - loss: 0.3545 - accuracy: 0.8595\n",
      "Epoch 289/300\n",
      "8/8 [==============================] - 0s 5ms/step - loss: 0.3648 - accuracy: 0.8430\n",
      "Epoch 290/300\n",
      "8/8 [==============================] - 0s 4ms/step - loss: 0.3639 - accuracy: 0.8264\n",
      "Epoch 291/300\n",
      "8/8 [==============================] - 0s 4ms/step - loss: 0.3526 - accuracy: 0.8471\n",
      "Epoch 292/300\n",
      "8/8 [==============================] - 0s 4ms/step - loss: 0.3489 - accuracy: 0.8595\n",
      "Epoch 293/300\n",
      "8/8 [==============================] - 0s 4ms/step - loss: 0.3516 - accuracy: 0.8636\n",
      "Epoch 294/300\n",
      "8/8 [==============================] - 0s 4ms/step - loss: 0.3490 - accuracy: 0.8554\n",
      "Epoch 295/300\n",
      "8/8 [==============================] - 0s 3ms/step - loss: 0.3455 - accuracy: 0.8554\n",
      "Epoch 296/300\n",
      "8/8 [==============================] - 0s 4ms/step - loss: 0.3675 - accuracy: 0.8388\n",
      "Epoch 297/300\n",
      "8/8 [==============================] - 0s 4ms/step - loss: 0.3538 - accuracy: 0.8306\n",
      "Epoch 298/300\n",
      "8/8 [==============================] - 0s 4ms/step - loss: 0.3522 - accuracy: 0.8512\n",
      "Epoch 299/300\n",
      "8/8 [==============================] - 0s 4ms/step - loss: 0.3652 - accuracy: 0.8471\n",
      "Epoch 300/300\n",
      "8/8 [==============================] - 0s 3ms/step - loss: 0.3364 - accuracy: 0.8636\n"
     ]
    },
    {
     "data": {
      "text/plain": [
       "<keras.callbacks.History at 0x2e716707250>"
      ]
     },
     "execution_count": 71,
     "metadata": {},
     "output_type": "execute_result"
    }
   ],
   "source": [
    "model.fit(X_train,Y_train,epochs=300)"
   ]
  },
  {
   "cell_type": "code",
   "execution_count": 72,
   "id": "5b3f72fb",
   "metadata": {},
   "outputs": [
    {
     "name": "stdout",
     "output_type": "stream",
     "text": [
      "2/2 [==============================] - 0s 3ms/step\n"
     ]
    }
   ],
   "source": [
    "Y_pred_nn = model.predict(X_test)"
   ]
  },
  {
   "cell_type": "code",
   "execution_count": 73,
   "id": "cb98edfb",
   "metadata": {},
   "outputs": [
    {
     "data": {
      "text/plain": [
       "(61, 1)"
      ]
     },
     "execution_count": 73,
     "metadata": {},
     "output_type": "execute_result"
    }
   ],
   "source": [
    "Y_pred_nn.shape"
   ]
  },
  {
   "cell_type": "code",
   "execution_count": 74,
   "id": "975cd44f",
   "metadata": {},
   "outputs": [],
   "source": [
    "rounded = [round(x[0]) for x in Y_pred_nn]\n",
    "\n",
    "Y_pred_nn = rounded"
   ]
  },
  {
   "cell_type": "code",
   "execution_count": 75,
   "id": "fec48471",
   "metadata": {},
   "outputs": [
    {
     "name": "stdout",
     "output_type": "stream",
     "text": [
      "The accuracy score achieved using Neural Network is: 80.33 %\n"
     ]
    }
   ],
   "source": [
    "score_nn = round(accuracy_score(Y_pred_nn,Y_test)*100,2)\n",
    "print(\"The accuracy score achieved using Neural Network is: \"+str(score_nn)+\" %\")"
   ]
  },
  {
   "cell_type": "code",
   "execution_count": 76,
   "id": "8a558464",
   "metadata": {},
   "outputs": [
    {
     "name": "stdout",
     "output_type": "stream",
     "text": [
      "The accuracy score achieved using Logistic Regression is: 85.25 %\n",
      "The accuracy score achieved using Naive Bayes is: 85.25 %\n",
      "The accuracy score achieved using Support Vector Machine is: 81.97 %\n",
      "The accuracy score achieved using K-Nearest Neighbors is: 67.21 %\n",
      "The accuracy score achieved using Decision Tree is: 81.97 %\n",
      "The accuracy score achieved using Random Forest is: 90.16 %\n",
      "The accuracy score achieved using XGBoost is: 83.61 %\n",
      "The accuracy score achieved using Neural Network is: 80.33 %\n"
     ]
    }
   ],
   "source": [
    "scores = [score_lr,score_nb,score_svm,score_knn,score_dt,score_rf,score_xgb,score_nn]\n",
    "algorithms = [\"Logistic Regression\",\"Naive Bayes\",\"Support Vector Machine\",\"K-Nearest Neighbors\",\"Decision Tree\",\"Random Forest\",\"XGBoost\",\"Neural Network\"]    \n",
    "\n",
    "for i in range(len(algorithms)):\n",
    "    print(\"The accuracy score achieved using \"+algorithms[i]+\" is: \"+str(scores[i])+\" %\")"
   ]
  },
  {
   "cell_type": "code",
   "execution_count": 88,
   "id": "c3850b14",
   "metadata": {
    "scrolled": false
   },
   "outputs": [
    {
     "data": {
      "text/plain": [
       "<Axes: xlabel='Algorithms', ylabel='Accuracy score'>"
      ]
     },
     "execution_count": 88,
     "metadata": {},
     "output_type": "execute_result"
    },
    {
     "data": {
      "image/png": "[encoded data removed]",
      "text/plain": [
       "<Figure size 1500x800 with 1 Axes>"
      ]
     },
     "metadata": {},
     "output_type": "display_data"
    }
   ],
   "source": [
    "sns.set(rc={'figure.figsize':(15,8)})\n",
    "plt.xlabel(\"Algorithms\")\n",
    "plt.ylabel(\"Accuracy score\")\n",
    "\n",
    "sns.barplot(x=algorithms, y=scores)"
   ]
  },
  {
   "cell_type": "code",
   "execution_count": null,
   "id": "bea911a4",
   "metadata": {},
   "outputs": [],
   "source": [
    "\n"
   ]
  },
  {
   "cell_type": "code",
   "execution_count": null,
   "id": "95f4b087",
   "metadata": {},
   "outputs": [],
   "source": []
  }
 ],
 "metadata": {
  "kernelspec": {
   "display_name": "Python 3 (ipykernel)",
   "language": "python",
   "name": "python3"
  },
  "language_info": {
   "codemirror_mode": {
    "name": "ipython",
    "version": 3
   },
   "file_extension": ".py",
   "mimetype": "text/x-python",
   "name": "python",
   "nbconvert_exporter": "python",
   "pygments_lexer": "ipython3",
   "version": "3.10.13"
  }
 },
 "nbformat": 4,
 "nbformat_minor": 5
}
